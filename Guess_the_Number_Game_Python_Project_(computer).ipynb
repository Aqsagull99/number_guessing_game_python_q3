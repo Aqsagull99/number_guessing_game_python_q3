{
  "nbformat": 4,
  "nbformat_minor": 0,
  "metadata": {
    "colab": {
      "provenance": [],
      "authorship_tag": "ABX9TyN/s0wwO+Qg95p/Mx9OVr2Y",
      "include_colab_link": true
    },
    "kernelspec": {
      "name": "python3",
      "display_name": "Python 3"
    },
    "language_info": {
      "name": "python"
    }
  },
  "cells": [
    {
      "cell_type": "markdown",
      "metadata": {
        "id": "view-in-github",
        "colab_type": "text"
      },
      "source": [
        "<a href=\"https://colab.research.google.com/github/Aqsagull99/number_guessing_game_python_q3/blob/main/Guess_the_Number_Game_Python_Project_(computer).ipynb\" target=\"_parent\"><img src=\"https://colab.research.google.com/assets/colab-badge.svg\" alt=\"Open In Colab\"/></a>"
      ]
    },
    {
      "cell_type": "code",
      "source": [
        "import random\n",
        "\n",
        "def computer_guess():\n",
        "    while True:\n",
        "        print(\"\\033[96m\\033[1m🤖 Think of a number between 1 and 100, and I will try to guess it!\\033[0m\")\n",
        "        input(\"\\033[93mPress Enter when you are ready...\\033[0m\")\n",
        "\n",
        "        low, high = 1, 100\n",
        "        attempts = 0\n",
        "\n",
        "        while True:\n",
        "            attempts += 1\n",
        "            guess = random.randint(low, high)\n",
        "            print(f\"\\n\\033[94m\\033[1m💡 Is your number {guess}? (H/L/C)\\033[0m\")\n",
        "            feedback = input(\"\\033[93m👉 Enter \\033[1mH\\033[0m (Too High), \\033[1mL\\033[0m (Too Low), or \\033[1mC\\033[0m (Correct): \\033[0m\").strip().upper()\n",
        "\n",
        "            if feedback == 'C':\n",
        "                print(f\"\\n\\033[92m\\033[1m🎉 Yay! I guessed your number in {attempts} attempts! 🎉\\033[0m\")\n",
        "                break\n",
        "            elif feedback == 'H':\n",
        "                high = guess - 1\n",
        "                print(\"\\033[91m⬆️ Too High! Let me guess a lower number.\\033[0m\")\n",
        "            elif feedback == 'L':\n",
        "                low = guess + 1\n",
        "                print(\"\\033[94m⬇️ Too Low! Let me guess a higher number.\\033[0m\")\n",
        "            else:\n",
        "                print(\"\\033[91m⚠️ Invalid input! Please enter \\033[1mH, L,\\033[0m or \\033[1mC.\\033[0m\")\n",
        "\n",
        "        play_again = input(\"\\n\\033[93m🔄 Do you want to play again? (Y/N): \\033[0m\").strip().upper()\n",
        "        if play_again != 'Y':\n",
        "            print(\"\\033[95m👋 Thanks for playing! Goodbye! 👋\\033[0m\")\n",
        "            break\n",
        "\n",
        "if __name__ == \"__main__\":\n",
        "    computer_guess()\n"
      ],
      "metadata": {
        "colab": {
          "base_uri": "https://localhost:8080/"
        },
        "id": "UnI66DJazsSI",
        "outputId": "eaf669bf-e954-4f6a-a284-ce31701cdc4f"
      },
      "execution_count": null,
      "outputs": [
        {
          "output_type": "stream",
          "name": "stdout",
          "text": [
            "\u001b[96m\u001b[1m🤖 Think of a number between 1 and 100, and I will try to guess it!\u001b[0m\n"
          ]
        }
      ]
    }
  ]
}