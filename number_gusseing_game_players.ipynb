{
  "nbformat": 4,
  "nbformat_minor": 0,
  "metadata": {
    "colab": {
      "provenance": [],
      "authorship_tag": "ABX9TyO1CsTalaBhYvXOVcVkG9w/",
      "include_colab_link": true
    },
    "kernelspec": {
      "name": "python3",
      "display_name": "Python 3"
    },
    "language_info": {
      "name": "python"
    }
  },
  "cells": [
    {
      "cell_type": "markdown",
      "metadata": {
        "id": "view-in-github",
        "colab_type": "text"
      },
      "source": [
        "<a href=\"https://colab.research.google.com/github/Aqsagull99/number_guessing_game_python_q3/blob/main/number_gusseing_game_players.ipynb\" target=\"_parent\"><img src=\"https://colab.research.google.com/assets/colab-badge.svg\" alt=\"Open In Colab\"/></a>"
      ]
    },
    {
      "cell_type": "code",
      "execution_count": null,
      "metadata": {
        "colab": {
          "base_uri": "https://localhost:8080/"
        },
        "id": "kp5z9i1JYbUJ",
        "outputId": "3628714e-4468-49d6-c119-0829a8110311"
      },
      "outputs": [
        {
          "output_type": "stream",
          "name": "stdout",
          "text": [
            "\u001b[96m🎯 Welcome to the Advanced Number Guessing Game! 🎯\u001b[0m\n",
            "\u001b[93mSelect a game mode:\u001b[0m\n",
            "\u001b[92m1️⃣ Basic Number Guessing\u001b[0m\n",
            "\u001b[94m2️⃣ Timer-Based Guessing (30 seconds)\u001b[0m\n",
            "\u001b[95m3️⃣ Two-Player Mode\u001b[0m\n",
            "\u001b[96mEnter your choice (1-3): \u001b[0m2\n",
            "\u001b[96mEnter your guess (1-100): \u001b[0m33\n",
            "\u001b[94mToo low!\u001b[0m\n"
          ]
        }
      ],
      "source": [
        "import random\n",
        "import time\n",
        "import getpass\n",
        "\n",
        "def basic_number_guessing():\n",
        "    secret_number = random.randint(1, 100)\n",
        "    attempts = 5\n",
        "    while attempts > 0:\n",
        "        try:\n",
        "            guess = int(input(f\"\\n\\033[96mYou have {attempts} attempts left. Enter your guess (1-100): \\033[0m\"))\n",
        "            if guess < 1 or guess > 100:\n",
        "                print(\"\\033[93m⚠️ Please enter a number between 1 and 100!\\033[0m\")\n",
        "                continue\n",
        "            if guess == secret_number:\n",
        "                print(\"\\033[92m🎉 Congratulations! You guessed the correct number! 🎉\\033[0m\")\n",
        "                return True\n",
        "            else:\n",
        "                attempts -= 1\n",
        "                print(\"\\033[91mToo high!\\033[0m\" if guess > secret_number else \"\\033[94mToo low!\\033[0m\")\n",
        "        except ValueError:\n",
        "            print(\"\\033[93m⚠️ Invalid input! Please enter a valid number.\\033[0m\")\n",
        "    print(f\"\\033[95m💀 Game Over! The correct number was {secret_number}.\\033[0m\")\n",
        "    return False\n",
        "\n",
        "def timer_based_guessing():\n",
        "    secret_number = random.randint(1, 100)\n",
        "    start_time = time.time()\n",
        "    while time.time() - start_time < 30:\n",
        "        try:\n",
        "            guess = int(input(\"\\033[96mEnter your guess (1-100): \\033[0m\"))\n",
        "            if guess == secret_number:\n",
        "                print(\"\\033[92m🎉 Congratulations! You guessed the correct number!\\033[0m\")\n",
        "                return\n",
        "            print(\"\\033[91mToo high!\\033[0m\" if guess > secret_number else \"\\033[94mToo low!\\033[0m\")\n",
        "        except ValueError:\n",
        "            print(\"\\033[93m⚠️ Invalid input! Please enter a valid number.\\033[0m\")\n",
        "    print(f\"\\033[95m⏳ Time's up! The correct number was {secret_number}.\\033[0m\")\n",
        "\n",
        "def two_player_mode():\n",
        "    secret_number = int(getpass.getpass(\"\\033[96mPlayer 1, enter a number for Player 2 to guess (1-100): \\033[0m\"))\n",
        "    print(\"\\n\" * 50)  # Clear screen\n",
        "    print(\"\\033[95mPlayer 2, it's your turn! Start guessing.\\033[0m\")\n",
        "\n",
        "    attempts = 5\n",
        "    while attempts > 0:\n",
        "        try:\n",
        "            guess = int(input(f\"\\033[96mYou have {attempts} attempts left. Enter your guess: \\033[0m\"))\n",
        "            if guess == secret_number:\n",
        "                print(\"\\033[92m🎉 Congratulations! You guessed the correct number!\\033[0m\")\n",
        "                return\n",
        "            else:\n",
        "                attempts -= 1\n",
        "                print(\"\\033[91mToo high!\\033[0m\" if guess > secret_number else \"\\033[94mToo low!\\033[0m\")\n",
        "        except ValueError:\n",
        "            print(\"\\033[93m⚠️ Invalid input! Please enter a valid number.\\033[0m\")\n",
        "    print(f\"\\033[95m💀 Game Over! The correct number was {secret_number}.\\033[0m\")\n",
        "\n",
        "def main():\n",
        "    print(\"\\033[96m🎯 Welcome to the Advanced Number Guessing Game! 🎯\\033[0m\")\n",
        "    print(\"\\033[93mSelect a game mode:\\033[0m\")\n",
        "    print(\"\\033[92m1️⃣ Basic Number Guessing\\033[0m\")\n",
        "    print(\"\\033[94m2️⃣ Timer-Based Guessing (30 seconds)\\033[0m\")\n",
        "    print(\"\\033[95m3️⃣ Two-Player Mode\\033[0m\")\n",
        "    choice = input(\"\\033[96mEnter your choice (1-3): \\033[0m\")\n",
        "    if choice == \"1\":\n",
        "        basic_number_guessing()\n",
        "    elif choice == \"2\":\n",
        "        timer_based_guessing()\n",
        "    elif choice == \"3\":\n",
        "        two_player_mode()\n",
        "    else:\n",
        "        print(\"\\033[93m⚠️ Invalid choice! Please restart the game.\\033[0m\")\n",
        "\n",
        "if __name__ == \"__main__\":\n",
        "    main()"
      ]
    }
  ]
}